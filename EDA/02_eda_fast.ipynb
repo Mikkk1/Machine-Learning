{
 "cells": [
  {
   "cell_type": "code",
   "execution_count": null,
   "metadata": {},
   "outputs": [],
   "source": [
    "# pip install dataprep ydata-profiling sweetviz autoviz ipykernel\n",
    "# pip install nbformat scikit-learn skimpy"
   ]
  },
  {
   "cell_type": "code",
   "execution_count": 1,
   "metadata": {},
   "outputs": [],
   "source": [
    "import pandas as pd\n",
    "import seaborn as sns"
   ]
  },
  {
   "cell_type": "code",
   "execution_count": 6,
   "metadata": {},
   "outputs": [],
   "source": [
    "df = sns.load_dataset('titanic')"
   ]
  },
  {
   "cell_type": "markdown",
   "metadata": {},
   "source": [
    "## Skimpy:"
   ]
  },
  {
   "cell_type": "markdown",
   "metadata": {},
   "source": [
    "## dataprep:"
   ]
  },
  {
   "cell_type": "code",
   "execution_count": 10,
   "metadata": {},
   "outputs": [
    {
     "data": {
      "application/vnd.jupyter.widget-view+json": {
       "model_id": "fd71113795614679a6ae6d25840a36a6",
       "version_major": 2,
       "version_minor": 0
      },
      "text/plain": [
       "  0%|          | 0/1599 [00:00<?, ?it/s]"
      ]
     },
     "metadata": {},
     "output_type": "display_data"
    },
    {
     "name": "stderr",
     "output_type": "stream",
     "text": [
      "d:\\anaconda3\\envs\\eda_env\\lib\\site-packages\\dask\\core.py:121: RuntimeWarning: invalid value encountered in divide\n",
      "  return func(*(_execute_task(a, cache) for a in args))\n",
      "d:\\anaconda3\\envs\\eda_env\\lib\\site-packages\\dataprep\\eda\\distribution\\render.py:274: FutureWarning: The frame.append method is deprecated and will be removed from pandas in a future version. Use pandas.concat instead.\n",
      "  df = df.append(pd.DataFrame({col: [nrows - npresent]}, index=[\"Others\"]))\n",
      "d:\\anaconda3\\envs\\eda_env\\lib\\site-packages\\dataprep\\eda\\distribution\\render.py:274: FutureWarning: The frame.append method is deprecated and will be removed from pandas in a future version. Use pandas.concat instead.\n",
      "  df = df.append(pd.DataFrame({col: [nrows - npresent]}, index=[\"Others\"]))\n",
      "d:\\anaconda3\\envs\\eda_env\\lib\\site-packages\\dataprep\\eda\\distribution\\render.py:274: FutureWarning: The frame.append method is deprecated and will be removed from pandas in a future version. Use pandas.concat instead.\n",
      "  df = df.append(pd.DataFrame({col: [nrows - npresent]}, index=[\"Others\"]))\n"
     ]
    },
    {
     "ename": "ModuleNotFoundError",
     "evalue": "No module named 'pandas.core.reshape.reshape'",
     "output_type": "error",
     "traceback": [
      "\u001b[1;31m---------------------------------------------------------------------------\u001b[0m",
      "\u001b[1;31mModuleNotFoundError\u001b[0m                       Traceback (most recent call last)",
      "Cell \u001b[1;32mIn[10], line 2\u001b[0m\n\u001b[0;32m      1\u001b[0m \u001b[39mfrom\u001b[39;00m \u001b[39mdataprep\u001b[39;00m\u001b[39m.\u001b[39;00m\u001b[39meda\u001b[39;00m \u001b[39mimport\u001b[39;00m create_report\n\u001b[1;32m----> 2\u001b[0m create_report(df)\n",
      "File \u001b[1;32md:\\anaconda3\\envs\\eda_env\\lib\\site-packages\\dataprep\\eda\\create_report\\__init__.py:68\u001b[0m, in \u001b[0;36mcreate_report\u001b[1;34m(df, config, display, title, mode, progress)\u001b[0m\n\u001b[0;32m     63\u001b[0m _suppress_warnings()\n\u001b[0;32m     64\u001b[0m cfg \u001b[39m=\u001b[39m Config\u001b[39m.\u001b[39mfrom_dict(display, config)\n\u001b[0;32m     65\u001b[0m context \u001b[39m=\u001b[39m {\n\u001b[0;32m     66\u001b[0m     \u001b[39m\"\u001b[39m\u001b[39mresources\u001b[39m\u001b[39m\"\u001b[39m: INLINE\u001b[39m.\u001b[39mrender(),\n\u001b[0;32m     67\u001b[0m     \u001b[39m\"\u001b[39m\u001b[39mtitle\u001b[39m\u001b[39m\"\u001b[39m: title,\n\u001b[1;32m---> 68\u001b[0m     \u001b[39m\"\u001b[39m\u001b[39mcomponents\u001b[39m\u001b[39m\"\u001b[39m: format_report(df, cfg, mode, progress),\n\u001b[0;32m     69\u001b[0m }\n\u001b[0;32m     70\u001b[0m template_base \u001b[39m=\u001b[39m ENV_LOADER\u001b[39m.\u001b[39mget_template(\u001b[39m\"\u001b[39m\u001b[39mbase.html\u001b[39m\u001b[39m\"\u001b[39m)\n\u001b[0;32m     71\u001b[0m report \u001b[39m=\u001b[39m template_base\u001b[39m.\u001b[39mrender(context\u001b[39m=\u001b[39mcontext)\n",
      "File \u001b[1;32md:\\anaconda3\\envs\\eda_env\\lib\\site-packages\\dataprep\\eda\\create_report\\formatter.py:78\u001b[0m, in \u001b[0;36mformat_report\u001b[1;34m(df, cfg, mode, progress)\u001b[0m\n\u001b[0;32m     76\u001b[0m \u001b[39mif\u001b[39;00m mode \u001b[39m==\u001b[39m \u001b[39m\"\u001b[39m\u001b[39mbasic\u001b[39m\u001b[39m\"\u001b[39m:\n\u001b[0;32m     77\u001b[0m     edaframe \u001b[39m=\u001b[39m EDAFrame(df)\n\u001b[1;32m---> 78\u001b[0m     comps \u001b[39m=\u001b[39m format_basic(edaframe, cfg)\n\u001b[0;32m     79\u001b[0m \u001b[39m# elif mode == \"full\":\u001b[39;00m\n\u001b[0;32m     80\u001b[0m \u001b[39m#     comps = format_full(df)\u001b[39;00m\n\u001b[0;32m     81\u001b[0m \u001b[39m# elif mode == \"minimal\":\u001b[39;00m\n\u001b[0;32m     82\u001b[0m \u001b[39m#     comps = format_mini(df)\u001b[39;00m\n\u001b[0;32m     83\u001b[0m \u001b[39melse\u001b[39;00m:\n\u001b[0;32m     84\u001b[0m     \u001b[39mraise\u001b[39;00m \u001b[39mValueError\u001b[39;00m(\u001b[39mf\u001b[39m\u001b[39m\"\u001b[39m\u001b[39mUnknown mode: \u001b[39m\u001b[39m{\u001b[39;00mmode\u001b[39m}\u001b[39;00m\u001b[39m\"\u001b[39m)\n",
      "File \u001b[1;32md:\\anaconda3\\envs\\eda_env\\lib\\site-packages\\dataprep\\eda\\create_report\\formatter.py:294\u001b[0m, in \u001b[0;36mformat_basic\u001b[1;34m(df, cfg)\u001b[0m\n\u001b[0;32m    292\u001b[0m res_interaction \u001b[39m=\u001b[39m _format_interaction(data, cfg)\n\u001b[0;32m    293\u001b[0m res_correlations \u001b[39m=\u001b[39m _format_correlation(data, cfg)\n\u001b[1;32m--> 294\u001b[0m res_missing \u001b[39m=\u001b[39m _format_missing(data, cfg, completions, df\u001b[39m.\u001b[39;49mshape[\u001b[39m1\u001b[39;49m])\n\u001b[0;32m    295\u001b[0m res \u001b[39m=\u001b[39m {\u001b[39m*\u001b[39m\u001b[39m*\u001b[39mres_overview, \u001b[39m*\u001b[39m\u001b[39m*\u001b[39mres_variables, \u001b[39m*\u001b[39m\u001b[39m*\u001b[39mres_interaction, \u001b[39m*\u001b[39m\u001b[39m*\u001b[39mres_correlations, \u001b[39m*\u001b[39m\u001b[39m*\u001b[39mres_missing}\n\u001b[0;32m    297\u001b[0m \u001b[39mreturn\u001b[39;00m res\n",
      "File \u001b[1;32md:\\anaconda3\\envs\\eda_env\\lib\\site-packages\\dataprep\\eda\\create_report\\formatter.py:218\u001b[0m, in \u001b[0;36m_format_missing\u001b[1;34m(data, cfg, completions, ncols)\u001b[0m\n\u001b[0;32m    215\u001b[0m res[\u001b[39m\"\u001b[39m\u001b[39mhas_missing\u001b[39m\u001b[39m\"\u001b[39m] \u001b[39m=\u001b[39m \u001b[39mTrue\u001b[39;00m\n\u001b[0;32m    216\u001b[0m itmdt \u001b[39m=\u001b[39m completions[\u001b[39m\"\u001b[39m\u001b[39mmiss\u001b[39m\u001b[39m\"\u001b[39m](data[\u001b[39m\"\u001b[39m\u001b[39mmiss\u001b[39m\u001b[39m\"\u001b[39m])\n\u001b[1;32m--> 218\u001b[0m rndrd \u001b[39m=\u001b[39m render_missing(itmdt, cfg)\n\u001b[0;32m    219\u001b[0m figs_missing: List[Figure] \u001b[39m=\u001b[39m []\n\u001b[0;32m    220\u001b[0m \u001b[39mfor\u001b[39;00m fig \u001b[39min\u001b[39;00m rndrd[\u001b[39m\"\u001b[39m\u001b[39mlayout\u001b[39m\u001b[39m\"\u001b[39m]:\n",
      "File \u001b[1;32md:\\anaconda3\\envs\\eda_env\\lib\\site-packages\\dataprep\\eda\\missing\\render.py:43\u001b[0m, in \u001b[0;36mrender_missing\u001b[1;34m(itmdt, cfg)\u001b[0m\n\u001b[0;32m     38\u001b[0m \u001b[39m\u001b[39m\u001b[39m\"\"\"\u001b[39;00m\n\u001b[0;32m     39\u001b[0m \u001b[39mRender the visualizations from plot_missing\u001b[39;00m\n\u001b[0;32m     40\u001b[0m \u001b[39m\"\"\"\u001b[39;00m\n\u001b[0;32m     42\u001b[0m \u001b[39mif\u001b[39;00m itmdt\u001b[39m.\u001b[39mvisual_type \u001b[39m==\u001b[39m \u001b[39m\"\u001b[39m\u001b[39mmissing_impact\u001b[39m\u001b[39m\"\u001b[39m:\n\u001b[1;32m---> 43\u001b[0m     \u001b[39mreturn\u001b[39;00m render_missing_impact(itmdt, cfg)\n\u001b[0;32m     44\u001b[0m \u001b[39melif\u001b[39;00m itmdt\u001b[39m.\u001b[39mvisual_type \u001b[39m==\u001b[39m \u001b[39m\"\u001b[39m\u001b[39mmissing_impact_1vn\u001b[39m\u001b[39m\"\u001b[39m:\n\u001b[0;32m     45\u001b[0m     \u001b[39mreturn\u001b[39;00m render_missing_impact_1vn(itmdt, cfg)\n",
      "File \u001b[1;32md:\\anaconda3\\envs\\eda_env\\lib\\site-packages\\dataprep\\eda\\missing\\render.py:332\u001b[0m, in \u001b[0;36mrender_missing_impact\u001b[1;34m(itmdt, cfg)\u001b[0m\n\u001b[0;32m    329\u001b[0m     htgs[\u001b[39m\"\u001b[39m\u001b[39mSpectrum\u001b[39m\u001b[39m\"\u001b[39m] \u001b[39m=\u001b[39m cfg\u001b[39m.\u001b[39mspectrum\u001b[39m.\u001b[39mhow_to_guide(plot_height, plot_width)\n\u001b[0;32m    331\u001b[0m \u001b[39mif\u001b[39;00m cfg\u001b[39m.\u001b[39mheatmap\u001b[39m.\u001b[39menable:\n\u001b[1;32m--> 332\u001b[0m     fig_heatmap \u001b[39m=\u001b[39m render_heatmaps(itmdt[\u001b[39m\"\u001b[39;49m\u001b[39mdata_heatmap\u001b[39;49m\u001b[39m\"\u001b[39;49m], plot_width, plot_height)\n\u001b[0;32m    333\u001b[0m     tabs\u001b[39m.\u001b[39mappend(Panel(child\u001b[39m=\u001b[39mrow(fig_heatmap), title\u001b[39m=\u001b[39m\u001b[39m\"\u001b[39m\u001b[39mHeat Map\u001b[39m\u001b[39m\"\u001b[39m))\n\u001b[0;32m    334\u001b[0m     htgs[\u001b[39m\"\u001b[39m\u001b[39mHeat Map\u001b[39m\u001b[39m\"\u001b[39m] \u001b[39m=\u001b[39m cfg\u001b[39m.\u001b[39mheatmap\u001b[39m.\u001b[39mmissing_how_to_guide(plot_height, plot_width)\n",
      "File \u001b[1;32md:\\anaconda3\\envs\\eda_env\\lib\\site-packages\\dataprep\\eda\\missing\\render.py:392\u001b[0m, in \u001b[0;36mrender_heatmaps\u001b[1;34m(data, plot_width, plot_height)\u001b[0m\n\u001b[0;32m    389\u001b[0m x_range \u001b[39m=\u001b[39m FactorRange(\u001b[39m*\u001b[39mdf\u001b[39m.\u001b[39mcolumns)\n\u001b[0;32m    390\u001b[0m y_range \u001b[39m=\u001b[39m FactorRange(\u001b[39m*\u001b[39m\u001b[39mreversed\u001b[39m(df\u001b[39m.\u001b[39mcolumns))\n\u001b[1;32m--> 392\u001b[0m df \u001b[39m=\u001b[39m df\u001b[39m.\u001b[39;49munstack()\u001b[39m.\u001b[39mreset_index(name\u001b[39m=\u001b[39m\u001b[39m\"\u001b[39m\u001b[39mcorrelation\u001b[39m\u001b[39m\"\u001b[39m)\n\u001b[0;32m    393\u001b[0m df \u001b[39m=\u001b[39m df\u001b[39m.\u001b[39mrename(columns\u001b[39m=\u001b[39m{\u001b[39m\"\u001b[39m\u001b[39mlevel_0\u001b[39m\u001b[39m\"\u001b[39m: \u001b[39m\"\u001b[39m\u001b[39mx\u001b[39m\u001b[39m\"\u001b[39m, \u001b[39m\"\u001b[39m\u001b[39mlevel_1\u001b[39m\u001b[39m\"\u001b[39m: \u001b[39m\"\u001b[39m\u001b[39my\u001b[39m\u001b[39m\"\u001b[39m})\n\u001b[0;32m    394\u001b[0m df \u001b[39m=\u001b[39m df[df[\u001b[39m\"\u001b[39m\u001b[39mx\u001b[39m\u001b[39m\"\u001b[39m] \u001b[39m!=\u001b[39m df[\u001b[39m\"\u001b[39m\u001b[39my\u001b[39m\u001b[39m\"\u001b[39m]]\n",
      "File \u001b[1;32m~\\AppData\\Roaming\\Python\\Python310\\site-packages\\pandas\\core\\frame.py:9110\u001b[0m, in \u001b[0;36munstack\u001b[1;34m(self, level, fill_value)\u001b[0m\n",
      "\u001b[1;31mModuleNotFoundError\u001b[0m: No module named 'pandas.core.reshape.reshape'"
     ]
    }
   ],
   "source": [
    "from dataprep.eda import create_report\n",
    "create_report(df)"
   ]
  },
  {
   "cell_type": "code",
   "execution_count": null,
   "metadata": {},
   "outputs": [],
   "source": []
  }
 ],
 "metadata": {
  "kernelspec": {
   "display_name": "eda_env",
   "language": "python",
   "name": "python3"
  },
  "language_info": {
   "codemirror_mode": {
    "name": "ipython",
    "version": 3
   },
   "file_extension": ".py",
   "mimetype": "text/x-python",
   "name": "python",
   "nbconvert_exporter": "python",
   "pygments_lexer": "ipython3",
   "version": "3.10.12"
  },
  "orig_nbformat": 4
 },
 "nbformat": 4,
 "nbformat_minor": 2
}
